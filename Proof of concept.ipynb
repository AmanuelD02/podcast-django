{
 "cells": [
  {
   "cell_type": "markdown",
   "id": "49964dcb-585f-49cd-9aa4-31386fd4dee5",
   "metadata": {},
   "source": [
    "In order to install the requied libraries install anaconda and also install LightFM using `pip install lightfm`"
   ]
  },
  {
   "cell_type": "code",
   "execution_count": 1,
   "id": "c71e843d-c7bc-41ff-a8fe-148bbaaf7791",
   "metadata": {},
   "outputs": [],
   "source": [
    "import sqlite3\n",
    "import numpy as np\n",
    "import pandas as pd\n",
    "from lightfm import LightFM\n",
    "from lightfm.datasets import fetch_movielens"
   ]
  },
  {
   "cell_type": "markdown",
   "id": "7e14f132-516d-4561-9ae0-b4b5939f0ebc",
   "metadata": {},
   "source": [
    "# LightFM approach"
   ]
  },
  {
   "cell_type": "markdown",
   "id": "10a4805d-9398-425e-b2cf-6dee48ff763e",
   "metadata": {},
   "source": [
    "import the necessary libraries"
   ]
  },
  {
   "cell_type": "code",
   "execution_count": 2,
   "id": "0b9b0e43-a3a9-4413-bf93-b9fc9e5d72fc",
   "metadata": {},
   "outputs": [],
   "source": [
    "import sqlite3\n",
    "import numpy as np\n",
    "import pandas as pd\n",
    "from lightfm import LightFM\n",
    "from lightfm.data import Dataset"
   ]
  },
  {
   "cell_type": "markdown",
   "id": "d8508122-e1d1-45e6-9ae8-419b1c7a284d",
   "metadata": {},
   "source": [
    "Connect to the database (from file this time) and retrieve the data required.\n",
    "- Since the category is a list I chose to use this way to retrieve it from the sql so I dunno if it's the best way to do so\n",
    "*Running this will take up some memory as it is loading a 500mb file to memory (possibly twice)* "
   ]
  },
  {
   "cell_type": "code",
   "execution_count": 3,
   "id": "fccad490-09dc-412a-a782-5d8e4f977bd7",
   "metadata": {},
   "outputs": [],
   "source": [
    "conn = sqlite3.connect(\"./database.sqlite\")\n",
    "data = pd.read_sql(\"\"\"SELECT rating, author_id, created_at, podcasts.podcast_id, podcasts.title \n",
    "                        FROM podcasts \n",
    "                        INNER JOIN reviews ON reviews.podcast_id = podcasts.podcast_id\"\"\", \n",
    "                   conn)\n",
    "category_data = pd.read_sql('''\n",
    "                            SELECT podcast_id, category FROM categories\n",
    "                            ''', conn)\n",
    "category_data = category_data.groupby('podcast_id')['category'].apply(', '.join).reset_index()\n",
    "data = pd.merge(data, category_data, on='podcast_id', how='left')"
   ]
  },
  {
   "cell_type": "markdown",
   "id": "91f9f74b-f0b3-41a4-b5eb-86a191afda39",
   "metadata": {},
   "source": [
    "Close the connections and inspect the data lightly (will add more exploratory data analysis in the future as it has some actual good insights that helped make decisions)\n",
    "                                                    "
   ]
  },
  {
   "cell_type": "code",
   "execution_count": 4,
   "id": "119d6985-9b47-4219-b876-af6eea820f11",
   "metadata": {},
   "outputs": [
    {
     "name": "stdout",
     "output_type": "stream",
     "text": [
      "0         arts, arts-performing-arts, music\n",
      "1         arts, arts-performing-arts, music\n",
      "2              arts, arts-design, education\n",
      "3              arts, arts-design, education\n",
      "4              arts, arts-design, education\n",
      "                        ...                \n",
      "984400                      society-culture\n",
      "984401                      society-culture\n",
      "984402                      society-culture\n",
      "984403                      society-culture\n",
      "984404                      society-culture\n",
      "Name: category, Length: 984405, dtype: object\n"
     ]
    },
    {
     "data": {
      "text/html": [
       "<div>\n",
       "<style scoped>\n",
       "    .dataframe tbody tr th:only-of-type {\n",
       "        vertical-align: middle;\n",
       "    }\n",
       "\n",
       "    .dataframe tbody tr th {\n",
       "        vertical-align: top;\n",
       "    }\n",
       "\n",
       "    .dataframe thead th {\n",
       "        text-align: right;\n",
       "    }\n",
       "</style>\n",
       "<table border=\"1\" class=\"dataframe\">\n",
       "  <thead>\n",
       "    <tr style=\"text-align: right;\">\n",
       "      <th></th>\n",
       "      <th>rating</th>\n",
       "      <th>author_id</th>\n",
       "      <th>created_at</th>\n",
       "      <th>podcast_id</th>\n",
       "      <th>title</th>\n",
       "      <th>category</th>\n",
       "    </tr>\n",
       "  </thead>\n",
       "  <tbody>\n",
       "    <tr>\n",
       "      <th>0</th>\n",
       "      <td>5</td>\n",
       "      <td>F7E5A318989779D</td>\n",
       "      <td>2018-04-24T12:05:16-07:00</td>\n",
       "      <td>c61aa81c9b929a66f0c1db6cbe5d8548</td>\n",
       "      <td>Backstage at Tilles Center</td>\n",
       "      <td>arts, arts-performing-arts, music</td>\n",
       "    </tr>\n",
       "    <tr>\n",
       "      <th>1</th>\n",
       "      <td>5</td>\n",
       "      <td>F6BF5472689BD12</td>\n",
       "      <td>2018-05-09T18:14:32-07:00</td>\n",
       "      <td>c61aa81c9b929a66f0c1db6cbe5d8548</td>\n",
       "      <td>Backstage at Tilles Center</td>\n",
       "      <td>arts, arts-performing-arts, music</td>\n",
       "    </tr>\n",
       "    <tr>\n",
       "      <th>2</th>\n",
       "      <td>1</td>\n",
       "      <td>1AB95B8E6E1309E</td>\n",
       "      <td>2019-06-11T14:53:39-07:00</td>\n",
       "      <td>ad4f2bf69c72b8db75978423c25f379e</td>\n",
       "      <td>TED Talks Daily</td>\n",
       "      <td>arts, arts-design, education</td>\n",
       "    </tr>\n",
       "    <tr>\n",
       "      <th>3</th>\n",
       "      <td>5</td>\n",
       "      <td>11BB760AA5DEBD1</td>\n",
       "      <td>2018-05-31T13:08:09-07:00</td>\n",
       "      <td>ad4f2bf69c72b8db75978423c25f379e</td>\n",
       "      <td>TED Talks Daily</td>\n",
       "      <td>arts, arts-design, education</td>\n",
       "    </tr>\n",
       "    <tr>\n",
       "      <th>4</th>\n",
       "      <td>5</td>\n",
       "      <td>D86032C8E57D15A</td>\n",
       "      <td>2019-06-19T13:56:05-07:00</td>\n",
       "      <td>ad4f2bf69c72b8db75978423c25f379e</td>\n",
       "      <td>TED Talks Daily</td>\n",
       "      <td>arts, arts-design, education</td>\n",
       "    </tr>\n",
       "  </tbody>\n",
       "</table>\n",
       "</div>"
      ],
      "text/plain": [
       "   rating        author_id                 created_at  \\\n",
       "0       5  F7E5A318989779D  2018-04-24T12:05:16-07:00   \n",
       "1       5  F6BF5472689BD12  2018-05-09T18:14:32-07:00   \n",
       "2       1  1AB95B8E6E1309E  2019-06-11T14:53:39-07:00   \n",
       "3       5  11BB760AA5DEBD1  2018-05-31T13:08:09-07:00   \n",
       "4       5  D86032C8E57D15A  2019-06-19T13:56:05-07:00   \n",
       "\n",
       "                         podcast_id                       title  \\\n",
       "0  c61aa81c9b929a66f0c1db6cbe5d8548  Backstage at Tilles Center   \n",
       "1  c61aa81c9b929a66f0c1db6cbe5d8548  Backstage at Tilles Center   \n",
       "2  ad4f2bf69c72b8db75978423c25f379e             TED Talks Daily   \n",
       "3  ad4f2bf69c72b8db75978423c25f379e             TED Talks Daily   \n",
       "4  ad4f2bf69c72b8db75978423c25f379e             TED Talks Daily   \n",
       "\n",
       "                            category  \n",
       "0  arts, arts-performing-arts, music  \n",
       "1  arts, arts-performing-arts, music  \n",
       "2       arts, arts-design, education  \n",
       "3       arts, arts-design, education  \n",
       "4       arts, arts-design, education  "
      ]
     },
     "execution_count": 4,
     "metadata": {},
     "output_type": "execute_result"
    }
   ],
   "source": [
    "conn.close()\n",
    "print(data['category'])\n",
    "data.head()"
   ]
  },
  {
   "cell_type": "markdown",
   "id": "e9b5eb0b-21bc-4b42-816b-9946704b348b",
   "metadata": {},
   "source": [
    "Time to create the dataset in the format that the lightfm library wants. The fit call takes in a list of user_ids and item_ids and assigns integers to them (that's how it works internally but no need for us to care)"
   ]
  },
  {
   "cell_type": "code",
   "execution_count": 5,
   "id": "88538621-9903-4946-930e-436a554acc6a",
   "metadata": {},
   "outputs": [],
   "source": [
    "dataset = Dataset()\n",
    "dataset.fit(data['author_id'] ,data['podcast_id'])"
   ]
  },
  {
   "cell_type": "markdown",
   "id": "7fe30c94-fc85-4aff-9a03-b179b896fd01",
   "metadata": {},
   "source": [
    "Register the category column as a feature of a podcast."
   ]
  },
  {
   "cell_type": "code",
   "execution_count": 6,
   "id": "fb2b06c3-6c9e-4e96-9075-c4a7918ae80a",
   "metadata": {},
   "outputs": [],
   "source": [
    "dataset.fit_partial(items=data['podcast_id'],\n",
    "                    item_features=data['category'])"
   ]
  },
  {
   "cell_type": "markdown",
   "id": "430c183d-28dc-4b0b-b73b-7abd7c9de6d4",
   "metadata": {},
   "source": [
    "Just checking if anything is too off"
   ]
  },
  {
   "cell_type": "code",
   "execution_count": 7,
   "id": "c6ca2695-e033-40b7-a30b-06e35926b87e",
   "metadata": {},
   "outputs": [
    {
     "name": "stdout",
     "output_type": "stream",
     "text": [
      "Num users: 755438, num_items 46693.\n"
     ]
    }
   ],
   "source": [
    "num_users, num_items = dataset.interactions_shape()\n",
    "print('Num users: {}, num_items {}.'.format(num_users, num_items))"
   ]
  },
  {
   "cell_type": "markdown",
   "id": "043f96bb-d003-40a4-8b99-b227376c0c73",
   "metadata": {},
   "source": [
    "Building the interactions (the user, the podcast and the rating given) returns the interactions we want but also the rating in a structure that can be used by LightFM"
   ]
  },
  {
   "cell_type": "code",
   "execution_count": 8,
   "id": "d6e13a7c-850f-44b9-b0cf-d06c85caaa13",
   "metadata": {},
   "outputs": [
    {
     "name": "stdout",
     "output_type": "stream",
     "text": [
      "<755438x46693 sparse matrix of type '<class 'numpy.int32'>'\n",
      "\twith 984405 stored elements in COOrdinate format>\n"
     ]
    }
   ],
   "source": [
    "(interactions, weights) = dataset.build_interactions(zip(data['author_id'], data['podcast_id'], data['rating']-3))\n",
    "print(repr(interactions))"
   ]
  },
  {
   "cell_type": "markdown",
   "id": "af75a5f1-6f7e-467a-9326-eb007bfd8114",
   "metadata": {},
   "source": [
    "Creates the item features in a way that the library can use when building models"
   ]
  },
  {
   "cell_type": "code",
   "execution_count": 9,
   "id": "9417d967-3c12-4d5f-aba9-ab9f70e419d4",
   "metadata": {},
   "outputs": [
    {
     "name": "stdout",
     "output_type": "stream",
     "text": [
      "<46693x47101 sparse matrix of type '<class 'numpy.float32'>'\n",
      "\twith 117684 stored elements in Compressed Sparse Row format>\n"
     ]
    }
   ],
   "source": [
    "item_features = dataset.build_item_features(map(lambda x: (x[0][1], x[1][1].split(', ')), \n",
    "                                                zip(data['podcast_id'].items(), data['category'].items())))\n",
    "print(repr(item_features))"
   ]
  },
  {
   "cell_type": "markdown",
   "id": "2451988a-49ae-4cd9-9fc2-5d8532f2acc0",
   "metadata": {},
   "source": [
    "Splits the dataset into test (20%) and training (80%) sets for later testing and fits the model to the training set "
   ]
  },
  {
   "cell_type": "code",
   "execution_count": 10,
   "id": "4c64c619-ffa2-4bba-a8c9-33ef208d8c93",
   "metadata": {},
   "outputs": [
    {
     "data": {
      "text/plain": [
       "<lightfm.lightfm.LightFM at 0x7efc60014130>"
      ]
     },
     "execution_count": 10,
     "metadata": {},
     "output_type": "execute_result"
    }
   ],
   "source": [
    "from lightfm.cross_validation import random_train_test_split\n",
    "train, test = random_train_test_split(interactions)\n",
    "model = LightFM(loss='warp', no_components=4)\n",
    "model.fit(train, item_features=item_features, num_threads=4)"
   ]
  },
  {
   "cell_type": "markdown",
   "id": "770a89c5-4b80-4975-9f0b-f07b78bea9c6",
   "metadata": {},
   "source": [
    "**Be warned this will take a lot of CPU time to run**\n",
    "Tests the accracy of the model using a recall metric. Basically what recall means is, given k recommendations from the model, what percentage of my rated episodes are in the k recommendations? For example, if I like 10 songs and out of the 100 recommendations, only a 2 of them are in the model, then the recall is 0.2. For this case, we have 755438 users, 46693 items and 1566431 ratings. This means that the average user gives only 2 ratings and we have a lot of items, meaning that we don't have a lot of data to work with here. \n",
    "\n",
    "With this dataset and this test (we've set k = 100), the recall of the random recommender would be `0.0021416486411239373`."
   ]
  },
  {
   "cell_type": "code",
   "execution_count": 11,
   "id": "8efc7eb2-2dd3-437f-8d57-74d2dababd82",
   "metadata": {},
   "outputs": [
    {
     "name": "stdout",
     "output_type": "stream",
     "text": [
      "Train recall: 0.1937\n",
      "Test recall: 0.0942\n"
     ]
    }
   ],
   "source": [
    "from lightfm.evaluation import recall_at_k\n",
    "print(\"Train recall: %.4f\" % recall_at_k(model, train, item_features=item_features, num_threads=4, k=100).mean())\n",
    "print(\"Test recall: %.4f\" % recall_at_k(model, test, item_features=item_features, num_threads=4, k=100).mean())\n"
   ]
  },
  {
   "cell_type": "code",
   "execution_count": 12,
   "id": "702816e8-9e14-4779-857e-7cc44b549f20",
   "metadata": {},
   "outputs": [
    {
     "name": "stdout",
     "output_type": "stream",
     "text": [
      "Train precision: 0.0023\n",
      "Test precision: 0.0011\n"
     ]
    }
   ],
   "source": [
    "from lightfm.evaluation import precision_at_k\n",
    "print(\"Train precision: %.4f\" % precision_at_k(model, train, item_features=item_features, num_threads=4, k=100).mean())\n",
    "print(\"Test precision: %.4f\" % precision_at_k(model, test, item_features=item_features, num_threads=4, k=100).mean())"
   ]
  },
  {
   "cell_type": "markdown",
   "id": "1932f785-74bc-47f2-8c23-26d321f172af",
   "metadata": {},
   "source": [
    "# Using Surprise"
   ]
  },
  {
   "cell_type": "code",
   "execution_count": 13,
   "id": "6b11fb3b-f898-4ea9-a0db-9984bfdfd270",
   "metadata": {},
   "outputs": [],
   "source": [
    "import pandas as pd\n",
    "import sqlite3\n",
    "\n",
    "from surprise import NormalPredictor\n",
    "from surprise import SVD\n",
    "from surprise import Dataset\n",
    "from surprise import Reader\n",
    "from surprise.model_selection import cross_validate\n",
    "from surprise.prediction_algorithms.knns import KNNWithZScore\n",
    "from surprise.prediction_algorithms.random_pred import NormalPredictor"
   ]
  },
  {
   "cell_type": "code",
   "execution_count": 14,
   "id": "7b9e87fd-e602-475c-943a-bd073e315e06",
   "metadata": {},
   "outputs": [],
   "source": [
    "conn = sqlite3.connect(\"./database.sqlite\")\n",
    "data = pd.read_sql(\"\"\"SELECT rating, author_id, created_at, categories.podcast_id, podcasts.title, category \n",
    "                        FROM podcasts \n",
    "                        INNER JOIN categories ON categories.podcast_id = podcasts.podcast_id\n",
    "                        INNER JOIN reviews ON reviews.podcast_id = podcasts.podcast_id\"\"\", \n",
    "                   conn)"
   ]
  },
  {
   "cell_type": "code",
   "execution_count": 15,
   "id": "12382b52-f8ca-4ba4-856e-121d0794e383",
   "metadata": {},
   "outputs": [
    {
     "name": "stdout",
     "output_type": "stream",
     "text": [
      "<class 'pandas.core.frame.DataFrame'>\n",
      "RangeIndex: 1566431 entries, 0 to 1566430\n",
      "Data columns (total 6 columns):\n",
      " #   Column      Non-Null Count    Dtype \n",
      "---  ------      --------------    ----- \n",
      " 0   rating      1566431 non-null  int64 \n",
      " 1   author_id   1566431 non-null  object\n",
      " 2   created_at  1566431 non-null  object\n",
      " 3   podcast_id  1566431 non-null  object\n",
      " 4   title       1566431 non-null  object\n",
      " 5   category    1566431 non-null  object\n",
      "dtypes: int64(1), object(5)\n",
      "memory usage: 71.7+ MB\n",
      "None\n"
     ]
    },
    {
     "data": {
      "text/html": [
       "<div>\n",
       "<style scoped>\n",
       "    .dataframe tbody tr th:only-of-type {\n",
       "        vertical-align: middle;\n",
       "    }\n",
       "\n",
       "    .dataframe tbody tr th {\n",
       "        vertical-align: top;\n",
       "    }\n",
       "\n",
       "    .dataframe thead th {\n",
       "        text-align: right;\n",
       "    }\n",
       "</style>\n",
       "<table border=\"1\" class=\"dataframe\">\n",
       "  <thead>\n",
       "    <tr style=\"text-align: right;\">\n",
       "      <th></th>\n",
       "      <th>rating</th>\n",
       "      <th>author_id</th>\n",
       "      <th>created_at</th>\n",
       "      <th>podcast_id</th>\n",
       "      <th>title</th>\n",
       "      <th>category</th>\n",
       "    </tr>\n",
       "  </thead>\n",
       "  <tbody>\n",
       "    <tr>\n",
       "      <th>0</th>\n",
       "      <td>5</td>\n",
       "      <td>F7E5A318989779D</td>\n",
       "      <td>2018-04-24T12:05:16-07:00</td>\n",
       "      <td>c61aa81c9b929a66f0c1db6cbe5d8548</td>\n",
       "      <td>Backstage at Tilles Center</td>\n",
       "      <td>arts</td>\n",
       "    </tr>\n",
       "    <tr>\n",
       "      <th>1</th>\n",
       "      <td>5</td>\n",
       "      <td>F7E5A318989779D</td>\n",
       "      <td>2018-04-24T12:05:16-07:00</td>\n",
       "      <td>c61aa81c9b929a66f0c1db6cbe5d8548</td>\n",
       "      <td>Backstage at Tilles Center</td>\n",
       "      <td>arts-performing-arts</td>\n",
       "    </tr>\n",
       "    <tr>\n",
       "      <th>2</th>\n",
       "      <td>5</td>\n",
       "      <td>F7E5A318989779D</td>\n",
       "      <td>2018-04-24T12:05:16-07:00</td>\n",
       "      <td>c61aa81c9b929a66f0c1db6cbe5d8548</td>\n",
       "      <td>Backstage at Tilles Center</td>\n",
       "      <td>music</td>\n",
       "    </tr>\n",
       "    <tr>\n",
       "      <th>3</th>\n",
       "      <td>5</td>\n",
       "      <td>F6BF5472689BD12</td>\n",
       "      <td>2018-05-09T18:14:32-07:00</td>\n",
       "      <td>c61aa81c9b929a66f0c1db6cbe5d8548</td>\n",
       "      <td>Backstage at Tilles Center</td>\n",
       "      <td>arts</td>\n",
       "    </tr>\n",
       "    <tr>\n",
       "      <th>4</th>\n",
       "      <td>5</td>\n",
       "      <td>F6BF5472689BD12</td>\n",
       "      <td>2018-05-09T18:14:32-07:00</td>\n",
       "      <td>c61aa81c9b929a66f0c1db6cbe5d8548</td>\n",
       "      <td>Backstage at Tilles Center</td>\n",
       "      <td>arts-performing-arts</td>\n",
       "    </tr>\n",
       "  </tbody>\n",
       "</table>\n",
       "</div>"
      ],
      "text/plain": [
       "   rating        author_id                 created_at  \\\n",
       "0       5  F7E5A318989779D  2018-04-24T12:05:16-07:00   \n",
       "1       5  F7E5A318989779D  2018-04-24T12:05:16-07:00   \n",
       "2       5  F7E5A318989779D  2018-04-24T12:05:16-07:00   \n",
       "3       5  F6BF5472689BD12  2018-05-09T18:14:32-07:00   \n",
       "4       5  F6BF5472689BD12  2018-05-09T18:14:32-07:00   \n",
       "\n",
       "                         podcast_id                       title  \\\n",
       "0  c61aa81c9b929a66f0c1db6cbe5d8548  Backstage at Tilles Center   \n",
       "1  c61aa81c9b929a66f0c1db6cbe5d8548  Backstage at Tilles Center   \n",
       "2  c61aa81c9b929a66f0c1db6cbe5d8548  Backstage at Tilles Center   \n",
       "3  c61aa81c9b929a66f0c1db6cbe5d8548  Backstage at Tilles Center   \n",
       "4  c61aa81c9b929a66f0c1db6cbe5d8548  Backstage at Tilles Center   \n",
       "\n",
       "               category  \n",
       "0                  arts  \n",
       "1  arts-performing-arts  \n",
       "2                 music  \n",
       "3                  arts  \n",
       "4  arts-performing-arts  "
      ]
     },
     "execution_count": 15,
     "metadata": {},
     "output_type": "execute_result"
    }
   ],
   "source": [
    "conn.close()\n",
    "print(data.info())\n",
    "data.head()"
   ]
  },
  {
   "cell_type": "code",
   "execution_count": 16,
   "id": "82307621-38ea-423e-9ed8-83c111d3396b",
   "metadata": {},
   "outputs": [],
   "source": [
    "reader = Reader(rating_scale=(1, 5))\n",
    "data = Dataset.load_from_df(data[['author_id', 'podcast_id', 'rating']], reader)"
   ]
  },
  {
   "cell_type": "code",
   "execution_count": 17,
   "id": "71e21c5c-5b69-40d8-a736-f41ec5f291f7",
   "metadata": {},
   "outputs": [
    {
     "name": "stdout",
     "output_type": "stream",
     "text": [
      "Evaluating RMSE, MAE of algorithm SVD on 5 split(s).\n",
      "\n",
      "                  Fold 1  Fold 2  Fold 3  Fold 4  Fold 5  Mean    Std     \n",
      "RMSE (testset)    0.6741  0.6790  0.6769  0.6761  0.6786  0.6769  0.0017  \n",
      "MAE (testset)     0.3262  0.3286  0.3273  0.3274  0.3283  0.3276  0.0009  \n",
      "Fit time          60.74   62.00   59.99   59.54   63.08   61.07   1.31    \n",
      "Test time         2.43    2.44    2.43    2.16    2.40    2.37    0.11    \n"
     ]
    },
    {
     "data": {
      "text/plain": [
       "{'test_rmse': array([0.67414536, 0.67896713, 0.67685313, 0.67612192, 0.67856277]),\n",
       " 'test_mae': array([0.3261711 , 0.32858719, 0.32727697, 0.32742935, 0.32834908]),\n",
       " 'fit_time': (60.740195989608765,\n",
       "  61.99877452850342,\n",
       "  59.9943573474884,\n",
       "  59.538230419158936,\n",
       "  63.08291935920715),\n",
       " 'test_time': (2.432588577270508,\n",
       "  2.4396536350250244,\n",
       "  2.4349913597106934,\n",
       "  2.1642627716064453,\n",
       "  2.3961892127990723)}"
      ]
     },
     "execution_count": 17,
     "metadata": {},
     "output_type": "execute_result"
    }
   ],
   "source": [
    "algo = SVD()\n",
    "\n",
    "# Run 5-fold cross-validation and print results\n",
    "cross_validate(algo, data, measures=['RMSE', 'MAE'], cv=5, verbose=True)"
   ]
  },
  {
   "cell_type": "code",
   "execution_count": 18,
   "id": "0409985e-b06d-4e2c-8593-7feeec97b807",
   "metadata": {},
   "outputs": [
    {
     "name": "stdout",
     "output_type": "stream",
     "text": [
      "Evaluating RMSE, MAE of algorithm NormalPredictor on 5 split(s).\n",
      "\n",
      "                  Fold 1  Fold 2  Fold 3  Fold 4  Fold 5  Mean    Std     \n",
      "RMSE (testset)    1.1933  1.1934  1.1899  1.1936  1.1958  1.1932  0.0019  \n",
      "MAE (testset)     0.7494  0.7509  0.7482  0.7508  0.7529  0.7504  0.0016  \n",
      "Fit time          1.40    2.03    1.99    1.88    1.92    1.84    0.23    \n",
      "Test time         2.59    3.10    3.18    2.35    2.18    2.68    0.40    \n"
     ]
    },
    {
     "data": {
      "text/plain": [
       "{'test_rmse': array([1.1932917 , 1.19337409, 1.18986904, 1.19364162, 1.19576625]),\n",
       " 'test_mae': array([0.7493828 , 0.75091567, 0.74820614, 0.75076317, 0.75290268]),\n",
       " 'fit_time': (1.3983306884765625,\n",
       "  2.0343613624572754,\n",
       "  1.9909543991088867,\n",
       "  1.8780488967895508,\n",
       "  1.9157841205596924),\n",
       " 'test_time': (2.593496322631836,\n",
       "  3.10198712348938,\n",
       "  3.184617280960083,\n",
       "  2.3515849113464355,\n",
       "  2.183678388595581)}"
      ]
     },
     "execution_count": 18,
     "metadata": {},
     "output_type": "execute_result"
    }
   ],
   "source": [
    "algo = NormalPredictor()\n",
    "\n",
    "# Run 5-fold cross-validation and print results\n",
    "cross_validate(algo, data, measures=['RMSE', 'MAE'], cv=5, verbose=True)"
   ]
  },
  {
   "cell_type": "code",
   "execution_count": 19,
   "id": "74d5e12d-2b87-473f-a3c8-6fcf66085b8c",
   "metadata": {},
   "outputs": [
    {
     "name": "stdout",
     "output_type": "stream",
     "text": [
      "Estimating biases using als...\n",
      "Estimating biases using als...\n",
      "Estimating biases using als...\n",
      "Estimating biases using als...\n",
      "Estimating biases using als...\n",
      "Evaluating RMSE, MAE of algorithm BaselineOnly on 5 split(s).\n",
      "\n",
      "                  Fold 1  Fold 2  Fold 3  Fold 4  Fold 5  Mean    Std     \n",
      "RMSE (testset)    0.8159  0.8202  0.8227  0.8211  0.8203  0.8200  0.0022  \n",
      "MAE (testset)     0.4364  0.4390  0.4409  0.4399  0.4394  0.4391  0.0015  \n",
      "Fit time          6.99    7.15    7.15    7.12    7.29    7.14    0.10    \n",
      "Test time         1.97    2.09    1.93    2.23    1.89    2.02    0.12    \n"
     ]
    },
    {
     "data": {
      "text/plain": [
       "{'test_rmse': array([0.81590572, 0.82015449, 0.82265914, 0.82108715, 0.82031133]),\n",
       " 'test_mae': array([0.43640922, 0.43898752, 0.44091987, 0.43994509, 0.43943167]),\n",
       " 'fit_time': (6.987760782241821,\n",
       "  7.147241830825806,\n",
       "  7.149007797241211,\n",
       "  7.115860939025879,\n",
       "  7.286087512969971),\n",
       " 'test_time': (1.9670774936676025,\n",
       "  2.088625907897949,\n",
       "  1.9327120780944824,\n",
       "  2.232301712036133,\n",
       "  1.8892900943756104)}"
      ]
     },
     "execution_count": 19,
     "metadata": {},
     "output_type": "execute_result"
    }
   ],
   "source": [
    "from  surprise.prediction_algorithms.baseline_only import BaselineOnly\n",
    "algo = BaselineOnly()\n",
    "\n",
    "# Run 5-fold cross-validation and print results\n",
    "cross_validate(algo, data, measures=['RMSE', 'MAE'], cv=5, verbose=True)"
   ]
  }
 ],
 "metadata": {
  "kernelspec": {
   "display_name": "Python 3 (ipykernel)",
   "language": "python",
   "name": "python3"
  },
  "language_info": {
   "codemirror_mode": {
    "name": "ipython",
    "version": 3
   },
   "file_extension": ".py",
   "mimetype": "text/x-python",
   "name": "python",
   "nbconvert_exporter": "python",
   "pygments_lexer": "ipython3",
   "version": "3.9.7"
  }
 },
 "nbformat": 4,
 "nbformat_minor": 5
}
